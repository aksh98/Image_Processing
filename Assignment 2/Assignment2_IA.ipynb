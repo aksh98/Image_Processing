{
  "nbformat": 4,
  "nbformat_minor": 0,
  "metadata": {
    "colab": {
      "name": "Assignment2_IA.ipynb",
      "version": "0.3.2",
      "provenance": []
    },
    "kernelspec": {
      "name": "python3",
      "display_name": "Python 3"
    }
  },
  "cells": [
    {
      "metadata": {
        "id": "U7l4lRJVXMhh",
        "colab_type": "text"
      },
      "cell_type": "markdown",
      "source": [
        "## **Question 1 (b)**"
      ]
    },
    {
      "metadata": {
        "id": "ABUBWCy5IJmA",
        "colab_type": "code",
        "colab": {
          "base_uri": "https://localhost:8080/",
          "height": 136
        },
        "outputId": "a8df1ee7-1236-49ad-a682-6ed47c264b84"
      },
      "cell_type": "code",
      "source": [
        "import numpy as np\n",
        "\n",
        "# input signal\n",
        "Inp = np.array([[2, 3], [4, 5]])\n",
        "print('Input Matrix : ', Inp.shape)\n",
        "print(Inp,\"\\n\")\n",
        "\n",
        " # filter \n",
        "Kernel = np.array([[1, 2], [2, 1]])\n",
        "print('Kernel: ',Kernel.shape)\n",
        "print(Kernel)"
      ],
      "execution_count": 59,
      "outputs": [
        {
          "output_type": "stream",
          "text": [
            "Input Matrix :  (2, 2)\n",
            "[[2 3]\n",
            " [4 5]] \n",
            "\n",
            "Kernel:  (2, 2)\n",
            "[[1 2]\n",
            " [2 1]]\n"
          ],
          "name": "stdout"
        }
      ]
    },
    {
      "metadata": {
        "id": "QD2n1aU0IKLl",
        "colab_type": "code",
        "colab": {
          "base_uri": "https://localhost:8080/",
          "height": 34
        },
        "outputId": "2901152a-d237-4bed-f8d8-02866bc41073"
      },
      "cell_type": "code",
      "source": [
        "# number columns and rows of the input \n",
        "Inp_row, Inp_col = Inp.shape \n",
        "\n",
        "# number of columns and rows of the filter\n",
        "Ker_row, Ker_col = Kernel.shape\n",
        "\n",
        "#  calculate the output dimensions\n",
        "output_row = Inp_row + Ker_row - 1\n",
        "output_col = Inp_col + Ker_col - 1\n",
        "print('Output:', output_row, output_col)\n"
      ],
      "execution_count": 60,
      "outputs": [
        {
          "output_type": "stream",
          "text": [
            "Output: 3 3\n"
          ],
          "name": "stdout"
        }
      ]
    },
    {
      "metadata": {
        "id": "qPCf6p8_L0XR",
        "colab_type": "code",
        "colab": {
          "base_uri": "https://localhost:8080/",
          "height": 102
        },
        "outputId": "1e0de979-d901-4b37-f88d-9d6b3176f454"
      },
      "cell_type": "code",
      "source": [
        "def pad_with(mat, pad_width, iaxis, kwargs):\n",
        "  padding = kwargs.get('padder', 0)\n",
        "  mat[:pad_width[0]] = padding\n",
        "  mat[-pad_width[1]:] = padding\n",
        "  return mat\n",
        "\n",
        "Inp = np.pad(Inp, 1, pad_with)\n",
        "print(\"Input after padding: \\n\" , Inp)"
      ],
      "execution_count": 65,
      "outputs": [
        {
          "output_type": "stream",
          "text": [
            "Input after padding: \n",
            " [[0 0 0 0]\n",
            " [0 2 3 0]\n",
            " [0 4 5 0]\n",
            " [0 0 0 0]]\n"
          ],
          "name": "stdout"
        }
      ]
    },
    {
      "metadata": {
        "id": "zkLZK4LfJk18",
        "colab_type": "code",
        "colab": {
          "base_uri": "https://localhost:8080/",
          "height": 119
        },
        "outputId": "db8e7057-9eb0-461d-f0b6-12d50fd81011"
      },
      "cell_type": "code",
      "source": [
        "# O = [[0 for j in range(3) for i in range(3)]]\n",
        "O = [ [0]*3 for i in range(3)]\n",
        "O = np.array(O)\n",
        "print(len(O),len(O[0]))\n",
        "for i in range(len(Inp)-1):\n",
        "  for j in range(len(Inp[0])-1):\n",
        "    for x in range(len(Kernel)):\n",
        "      for y in range(len(Kernel[0])):\n",
        "        O[i][j] += Kernel[x][y]*Inp[i+x][j+y]\n",
        "        \n",
        "print(\"\\n Output Matrix: \\n\", O)        "
      ],
      "execution_count": 67,
      "outputs": [
        {
          "output_type": "stream",
          "text": [
            "3 3\n",
            "\n",
            " Output Matrix: \n",
            " [[ 2  7  6]\n",
            " [ 8 21 13]\n",
            " [ 8 14  5]]\n"
          ],
          "name": "stdout"
        }
      ]
    },
    {
      "metadata": {
        "id": "VKErri2IHW3H",
        "colab_type": "text"
      },
      "cell_type": "markdown",
      "source": [
        "## **Question 3 (b)**"
      ]
    },
    {
      "metadata": {
        "id": "A_Lw_G-8KQSs",
        "colab_type": "code",
        "colab": {}
      },
      "cell_type": "code",
      "source": [
        "def compute_tr(Tr, Hr, prob_r, r):\n",
        "  temp = 0\n",
        "  for i in range(0,len(r)):\n",
        "    temp += prob_r[i]\n",
        "    Tr[i] = (len(r)-1)*temp\n",
        "    Hr[i] = round(Tr[i])\n",
        "  return Tr,Hr\n"
      ],
      "execution_count": 0,
      "outputs": []
    },
    {
      "metadata": {
        "id": "6gULCeYaHsi5",
        "colab_type": "code",
        "colab": {
          "base_uri": "https://localhost:8080/",
          "height": 51
        },
        "outputId": "a50edfee-20b9-4a2f-8e8c-ba5207ff388c"
      },
      "cell_type": "code",
      "source": [
        "r = [0,1,2,3]\n",
        "prob_r = [0.8,0.2,0,0]\n",
        "\n",
        "Tr = [0 for i in range(len(r))]\n",
        "Hr = [0 for i in range(len(r))]\n",
        "\n",
        "compute_tr(Tr,Hr,prob_r,r)\n",
        "\n",
        "print(\"Tr = \",Tr)\n",
        "print(\"Hr = \",Hr)\n"
      ],
      "execution_count": 79,
      "outputs": [
        {
          "output_type": "stream",
          "text": [
            "Tr =  [2.4000000000000004, 3.0, 3.0, 3.0]\n",
            "Hr =  [2, 3, 3, 3]\n"
          ],
          "name": "stdout"
        }
      ]
    },
    {
      "metadata": {
        "id": "zsM1BcNbIZea",
        "colab_type": "code",
        "colab": {
          "base_uri": "https://localhost:8080/",
          "height": 51
        },
        "outputId": "b075df39-916a-4a54-d750-c4506e476bd3"
      },
      "cell_type": "code",
      "source": [
        "z = [0,1,2,3]\n",
        "prob_z = [0,0.3,0.7,0]\n",
        "Gz = [0 for i in range(len(z))]\n",
        "Sk = [0 for i in range(len(z))]\n",
        "\n",
        "compute_tr(Gz,Sk,prob_z,z)\n",
        "\n",
        "print(\"Gz = \",Gz)\n",
        "print(\"Sk = \",Sk)"
      ],
      "execution_count": 81,
      "outputs": [
        {
          "output_type": "stream",
          "text": [
            "Gz =  [0, 0.8999999999999999, 3.0, 3.0]\n",
            "Sk =  [0, 1, 3, 3]\n"
          ],
          "name": "stdout"
        }
      ]
    },
    {
      "metadata": {
        "id": "PDqZvxbRJEvM",
        "colab_type": "code",
        "colab": {
          "base_uri": "https://localhost:8080/",
          "height": 34
        },
        "outputId": "c16eda70-914c-45a1-868e-8a141446881a"
      },
      "cell_type": "code",
      "source": [
        "#Mapping \n",
        "Map = [0 for i in range(len(r))]\n",
        "\n",
        "for i in range(0,len(r)):\n",
        "  minn = 1000\n",
        "  for j in range(len(z)-1,-1,-1):\n",
        "    if(abs(Hr[i] - Sk[j]) <= minn):\n",
        "      minn = abs(Hr[i]-Sk[j])\n",
        "      Map[i] = j\n",
        "print(Map)"
      ],
      "execution_count": 97,
      "outputs": [
        {
          "output_type": "stream",
          "text": [
            "[1, 2, 2, 2]\n"
          ],
          "name": "stdout"
        }
      ]
    }
  ]
}